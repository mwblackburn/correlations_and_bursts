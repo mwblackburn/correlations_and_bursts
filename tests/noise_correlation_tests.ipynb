{
 "cells": [
  {
   "cell_type": "code",
   "execution_count": 1,
   "metadata": {},
   "outputs": [
    {
     "name": "stderr",
     "output_type": "stream",
     "text": [
      "c:\\Users\\Demogorgon\\anaconda3\\envs\\correlations_and_bursts_env\\lib\\site-packages\\allensdk\\brain_observatory\\comparison_utils.py:9: FutureWarning: pandas.util.testing is deprecated. Use the functions in the public API at pandas.testing instead.\n",
      "  from pandas.util.testing import assert_frame_equal\n"
     ]
    }
   ],
   "source": [
    "import numpy as np\n",
    "import pandas as pd\n",
    "import matplotlib.pyplot as plt\n",
    "import matplotlib.patches as mpatches\n",
    "import matplotlib\n",
    "import seaborn\n",
    "from scipy.stats import sem\n",
    "from scipy.stats import pearsonr as pearson_correlation\n",
    "import pickle as pkl\n",
    "import src.SessionNavigator as SessionNavigator\n",
    "import src.SessionProcessor as SessionProcessor\n",
    "from sklearn.svm import LinearSVC\n",
    "from allensdk.brain_observatory.ecephys.ecephys_project_cache import EcephysProjectCache"
   ]
  },
  {
   "cell_type": "code",
   "execution_count": 2,
   "metadata": {},
   "outputs": [],
   "source": [
    "data_root = \"C:/Users/Demogorgon/Documents/College/Marcus/Boston University PhD/Ocker Lab\"\n",
    "manifest_path = f\"{data_root}/AllenSDK_Data/manifest.json\"\n",
    "save_path = f\"{data_root}/correlations_and_bursts/data\"\n",
    "\n",
    "navigator = SessionNavigator.SessionNavigator(manifest_path)\n",
    "acronyms = ['VISp', 'VISl', 'VISal', 'VISrl', 'VISam', 'VISpm', 'LGd']\n",
    "stim = 'drifting_gratings_contrast'\n",
    "session_ids = navigator.find_sessions(acronyms, genotype=\"wt/wt\", session_type=\"functional_connectivity\")\n",
    "#sessions = [navigator.load_session(session_id) for session_id in session_ids]\n",
    "session = navigator.load_session(session_ids[0])\n",
    "with open(f\"{save_path}/{stim}__whole_burst_trains__session_{session_ids[0]}.pkl\", 'rb') as f:\n",
    "    bursts = pkl.load(f)\n",
    "with open(f\"{save_path}/{stim}__whole_single_trains__session_{session_ids[0]}.pkl\", 'rb') as f:\n",
    "    singles = pkl.load(f)"
   ]
  },
  {
   "cell_type": "code",
   "execution_count": 14,
   "metadata": {},
   "outputs": [],
   "source": [
    "bin_start = 0.0\n",
    "bin_stop = 0.3\n",
    "bin_width = 0.1\n",
    "\n",
    "processor = SessionProcessor.SessionProcessor(session)\n",
    "unshuffled = processor.construct_decoder(\"drifting_gratings_contrast\", \"orientation\", bin_start=bin_start, bin_stop=bin_stop, bin_width=bin_width, burst_dict=bursts, single_dict=singles, shuffle_trials=False)\n",
    "shuffled = processor.construct_decoder(\"drifting_gratings_contrast\", \"orientation\", bin_start=bin_start, bin_stop=bin_stop, bin_width=bin_width, burst_dict=bursts, single_dict=singles, shuffle_trials=True)\n",
    "\n",
    "processor.construct_psth(unshuffled)\n",
    "processor.construct_psth(shuffled)\n",
    "\n",
    "processor.calculate_decoder_weights(unshuffled)\n",
    "processor.calculate_decoder_weights(shuffled)\n",
    "\n",
    "processor.calculate_correlations(unshuffled)\n",
    "processor.calculate_correlations(shuffled)\n",
    "\n",
    "results = processor.results()\n",
    "unshuffled_results = results[unshuffled]\n",
    "shuffled_results = results[shuffled]\n",
    "\n",
    "unshuffled_psths = unshuffled_results[\"psths\"][\"bursts\"]\n",
    "shuffled_psths = shuffled_results[\"psths\"][\"bursts\"]"
   ]
  },
  {
   "cell_type": "code",
   "execution_count": 15,
   "metadata": {},
   "outputs": [
    {
     "name": "stdout",
     "output_type": "stream",
     "text": [
      "<xarray.DataArray 'burst_counts' (stimulus_presentation_id: 540, time_relative_to_stimulus_onset: 3, unit_id: 784)>\n",
      "array([[[ True,  True,  True, ...,  True,  True,  True],\n",
      "        [ True,  True,  True, ...,  True, False,  True],\n",
      "        [False,  True,  True, ..., False,  True,  True]],\n",
      "\n",
      "       [[ True,  True,  True, ...,  True,  True,  True],\n",
      "        [ True,  True,  True, ...,  True,  True,  True],\n",
      "        [False,  True,  True, ...,  True, False,  True]],\n",
      "\n",
      "       [[ True,  True,  True, ..., False,  True,  True],\n",
      "        [ True,  True, False, ...,  True,  True,  True],\n",
      "        [ True,  True, False, ...,  True, False,  True]],\n",
      "\n",
      "       ...,\n",
      "\n",
      "       [[ True,  True,  True, ...,  True,  True,  True],\n",
      "        [ True,  True,  True, ...,  True,  True,  True],\n",
      "        [ True,  True,  True, ...,  True, False,  True]],\n",
      "\n",
      "       [[ True,  True,  True, ...,  True,  True,  True],\n",
      "        [ True,  True, False, ...,  True,  True,  True],\n",
      "        [False,  True,  True, ...,  True, False,  True]],\n",
      "\n",
      "       [[ True,  True, False, ...,  True,  True,  True],\n",
      "        [ True,  True,  True, ...,  True,  True,  True],\n",
      "        [ True,  True,  True, ...,  True, False,  True]]])\n",
      "Coordinates:\n",
      "  * stimulus_presentation_id         (stimulus_presentation_id) int64 3798 ... 4337\n",
      "  * time_relative_to_stimulus_onset  (time_relative_to_stimulus_onset) float64 0.35 ... 0.55\n",
      "  * unit_id                          (unit_id) int64 951015763 ... 951037645\n"
     ]
    },
    {
     "name": "stderr",
     "output_type": "stream",
     "text": [
      "c:\\Users\\Demogorgon\\anaconda3\\envs\\correlations_and_bursts_env\\lib\\site-packages\\xarray\\core\\formatting.py:142: DeprecationWarning: `np.float` is a deprecated alias for the builtin `float`. To silence this warning, use `float` by itself. Doing this will not modify any behavior and is safe. If you specifically wanted the numpy scalar type, use `np.float64` here.\n",
      "Deprecated in NumPy 1.20; for more details and guidance: https://numpy.org/devdocs/release/1.20.0-notes.html#deprecations\n",
      "  elif isinstance(x, (float, np.float)):\n"
     ]
    }
   ],
   "source": [
    "a = unshuffled_psths == shuffled_psths\n",
    "print(a.isin([True]))"
   ]
  },
  {
   "cell_type": "code",
   "execution_count": 17,
   "metadata": {},
   "outputs": [
    {
     "name": "stderr",
     "output_type": "stream",
     "text": [
      "c:\\Users\\Demogorgon\\anaconda3\\envs\\correlations_and_bursts_env\\lib\\site-packages\\ipykernel_launcher.py:17: RuntimeWarning: invalid value encountered in true_divide\n"
     ]
    }
   ],
   "source": [
    "BIN = 2\n",
    "\n",
    "def correlate_noise(mat):\n",
    "    # mat: num_presentations x num_units\n",
    "    num_presentations, num_units = mat.shape\n",
    "    # Average across the presentations\n",
    "    expectation = np.array(mat.mean(axis=0))\n",
    "    variance = np.array(mat.var(axis=0))\n",
    "    centered_mat = mat-expectation\n",
    "    covariance = np.dot(centered_mat.T, centered_mat)/num_presentations\n",
    "    return np.divide(\n",
    "        covariance,\n",
    "        np.sqrt(\n",
    "            np.outer(variance, variance)\n",
    "            ), \n",
    "        out=np.full(covariance.shape, np.nan),\n",
    "        where=True)\n",
    "\n",
    "stim_table = unshuffled_results[\"decoder\"].stim_table\n",
    "bin_edges = unshuffled_results[\"decoder\"].bin_edges\n",
    "stim_conditions = unshuffled_results[\"decoder\"].stimulus_conditions\n",
    "sample_condition = stim_conditions[1]\n",
    "#sample_unit_id = [951031834, 951028439]\n",
    "sample_unit_id = processor.all_units\n",
    "num_units = len(sample_unit_id)\n",
    "presentation_ids = stim_table.loc[stim_table[\"orientation\"] == sample_condition].index.to_numpy()\n",
    "\n",
    "unshuffled_sample = processor.presentationwise_burst_counts(unshuffled, bin_edges, presentation_ids, sample_unit_id)\n",
    "shuffled_sample = processor.presentationwise_burst_counts(shuffled, bin_edges, presentation_ids, sample_unit_id)\n",
    "#print((unshuffled_sample == shuffled_sample).isin([True]))\n",
    "#unshuffled_sample = unshuffled_sample[:,:,0]\n",
    "#shuffled_sample = shuffled_sample[:,:,0]\n",
    "\n",
    "upper_triangle_indices = np.triu_indices(n=num_units, k=1)\n",
    "unshuffled_corr = correlate_noise(unshuffled_sample[:,BIN,:])[upper_triangle_indices].flatten()\n",
    "shuffled_corr = correlate_noise(shuffled_sample[:,BIN,:])[upper_triangle_indices].flatten()"
   ]
  },
  {
   "cell_type": "code",
   "execution_count": 18,
   "metadata": {},
   "outputs": [
    {
     "data": {
      "image/png": "[encoded data removed]",
      "text/plain": [
       "<Figure size 432x288 with 1 Axes>"
      ]
     },
     "metadata": {
      "needs_background": "light"
     },
     "output_type": "display_data"
    }
   ],
   "source": [
    "left_bound = -1\n",
    "right_bound = 1\n",
    "x = np.linspace(left_bound, right_bound, num=len(unshuffled_corr))\n",
    "fig, ax = plt.subplots()\n",
    "ax.scatter(unshuffled_corr, shuffled_corr)\n",
    "ax.plot(x, x)\n",
    "plt.show()"
   ]
  },
  {
   "cell_type": "code",
   "execution_count": 20,
   "metadata": {},
   "outputs": [
    {
     "data": {
      "text/plain": [
       "(array([0.0000e+00, 0.0000e+00, 0.0000e+00, 0.0000e+00, 0.0000e+00,\n",
       "        0.0000e+00, 0.0000e+00, 0.0000e+00, 0.0000e+00, 0.0000e+00,\n",
       "        0.0000e+00, 0.0000e+00, 0.0000e+00, 0.0000e+00, 0.0000e+00,\n",
       "        0.0000e+00, 0.0000e+00, 0.0000e+00, 0.0000e+00, 0.0000e+00,\n",
       "        0.0000e+00, 0.0000e+00, 0.0000e+00, 0.0000e+00, 0.0000e+00,\n",
       "        0.0000e+00, 0.0000e+00, 0.0000e+00, 0.0000e+00, 0.0000e+00,\n",
       "        0.0000e+00, 0.0000e+00, 0.0000e+00, 0.0000e+00, 0.0000e+00,\n",
       "        0.0000e+00, 0.0000e+00, 0.0000e+00, 0.0000e+00, 0.0000e+00,\n",
       "        0.0000e+00, 0.0000e+00, 0.0000e+00, 0.0000e+00, 0.0000e+00,\n",
       "        0.0000e+00, 0.0000e+00, 0.0000e+00, 0.0000e+00, 0.0000e+00,\n",
       "        0.0000e+00, 0.0000e+00, 0.0000e+00, 0.0000e+00, 0.0000e+00,\n",
       "        0.0000e+00, 0.0000e+00, 0.0000e+00, 0.0000e+00, 0.0000e+00,\n",
       "        0.0000e+00, 0.0000e+00, 0.0000e+00, 0.0000e+00, 0.0000e+00,\n",
       "        0.0000e+00, 0.0000e+00, 0.0000e+00, 4.0000e+00, 3.0000e+00,\n",
       "        1.0000e+00, 5.0000e+00, 1.0000e+01, 1.5000e+01, 2.5000e+01,\n",
       "        3.6000e+01, 5.9000e+01, 8.9000e+01, 1.0100e+02, 1.8800e+02,\n",
       "        2.5700e+02, 3.7200e+02, 5.0800e+02, 7.1700e+02, 9.9100e+02,\n",
       "        1.2790e+03, 1.7660e+03, 2.3480e+03, 3.1770e+03, 4.0080e+03,\n",
       "        5.0850e+03, 6.5400e+03, 7.8610e+03, 9.3530e+03, 1.1467e+04,\n",
       "        1.3282e+04, 1.4674e+04, 1.6416e+04, 1.5928e+04, 8.2260e+03,\n",
       "        5.9240e+03, 6.4460e+03, 6.3580e+03, 6.4800e+03, 5.8890e+03,\n",
       "        5.7660e+03, 5.0730e+03, 4.8810e+03, 4.4000e+03, 4.1800e+03,\n",
       "        3.7020e+03, 3.0600e+03, 2.6120e+03, 2.4770e+03, 2.0750e+03,\n",
       "        1.8280e+03, 1.5630e+03, 1.2550e+03, 1.0560e+03, 9.1900e+02,\n",
       "        7.0400e+02, 6.7100e+02, 5.6500e+02, 4.5200e+02, 4.1400e+02,\n",
       "        2.6000e+02, 2.3100e+02, 3.0300e+02, 1.1700e+02, 1.8700e+02,\n",
       "        1.7800e+02, 8.8000e+01, 1.0600e+02, 3.7000e+01, 1.1600e+02,\n",
       "        3.4000e+01, 7.2000e+01, 3.3000e+01, 3.0000e+01, 8.9000e+01,\n",
       "        3.4000e+01, 2.4000e+01, 1.7000e+01, 7.0000e+00, 5.1000e+01,\n",
       "        1.2000e+01, 9.0000e+00, 0.0000e+00, 1.1000e+01, 4.2000e+01,\n",
       "        6.0000e+00, 4.0000e+00, 3.0000e+00, 3.0000e+00, 1.0000e+00,\n",
       "        0.0000e+00, 6.0000e+00, 5.6000e+01, 0.0000e+00, 0.0000e+00,\n",
       "        2.0000e+00, 0.0000e+00, 5.0000e+00, 2.0000e+00, 0.0000e+00,\n",
       "        2.0000e+00, 2.0000e+00, 0.0000e+00, 0.0000e+00, 0.0000e+00,\n",
       "        3.1000e+01, 0.0000e+00, 0.0000e+00, 0.0000e+00, 0.0000e+00,\n",
       "        0.0000e+00, 0.0000e+00, 1.0000e+00, 0.0000e+00, 0.0000e+00,\n",
       "        0.0000e+00, 2.0000e+00, 0.0000e+00, 0.0000e+00, 0.0000e+00,\n",
       "        0.0000e+00, 0.0000e+00, 0.0000e+00, 0.0000e+00, 1.0000e+00,\n",
       "        0.0000e+00, 0.0000e+00, 0.0000e+00, 0.0000e+00, 0.0000e+00,\n",
       "        0.0000e+00, 0.0000e+00, 0.0000e+00, 0.0000e+00]),\n",
       " array([-1.0000000e+00, -9.9000000e-01, -9.8000000e-01, -9.7000000e-01,\n",
       "        -9.6000000e-01, -9.5000000e-01, -9.4000000e-01, -9.3000000e-01,\n",
       "        -9.2000000e-01, -9.1000000e-01, -9.0000000e-01, -8.9000000e-01,\n",
       "        -8.8000000e-01, -8.7000000e-01, -8.6000000e-01, -8.5000000e-01,\n",
       "        -8.4000000e-01, -8.3000000e-01, -8.2000000e-01, -8.1000000e-01,\n",
       "        -8.0000000e-01, -7.9000000e-01, -7.8000000e-01, -7.7000000e-01,\n",
       "        -7.6000000e-01, -7.5000000e-01, -7.4000000e-01, -7.3000000e-01,\n",
       "        -7.2000000e-01, -7.1000000e-01, -7.0000000e-01, -6.9000000e-01,\n",
       "        -6.8000000e-01, -6.7000000e-01, -6.6000000e-01, -6.5000000e-01,\n",
       "        -6.4000000e-01, -6.3000000e-01, -6.2000000e-01, -6.1000000e-01,\n",
       "        -6.0000000e-01, -5.9000000e-01, -5.8000000e-01, -5.7000000e-01,\n",
       "        -5.6000000e-01, -5.5000000e-01, -5.4000000e-01, -5.3000000e-01,\n",
       "        -5.2000000e-01, -5.1000000e-01, -5.0000000e-01, -4.9000000e-01,\n",
       "        -4.8000000e-01, -4.7000000e-01, -4.6000000e-01, -4.5000000e-01,\n",
       "        -4.4000000e-01, -4.3000000e-01, -4.2000000e-01, -4.1000000e-01,\n",
       "        -4.0000000e-01, -3.9000000e-01, -3.8000000e-01, -3.7000000e-01,\n",
       "        -3.6000000e-01, -3.5000000e-01, -3.4000000e-01, -3.3000000e-01,\n",
       "        -3.2000000e-01, -3.1000000e-01, -3.0000000e-01, -2.9000000e-01,\n",
       "        -2.8000000e-01, -2.7000000e-01, -2.6000000e-01, -2.5000000e-01,\n",
       "        -2.4000000e-01, -2.3000000e-01, -2.2000000e-01, -2.1000000e-01,\n",
       "        -2.0000000e-01, -1.9000000e-01, -1.8000000e-01, -1.7000000e-01,\n",
       "        -1.6000000e-01, -1.5000000e-01, -1.4000000e-01, -1.3000000e-01,\n",
       "        -1.2000000e-01, -1.1000000e-01, -1.0000000e-01, -9.0000000e-02,\n",
       "        -8.0000000e-02, -7.0000000e-02, -6.0000000e-02, -5.0000000e-02,\n",
       "        -4.0000000e-02, -3.0000000e-02, -2.0000000e-02, -1.0000000e-02,\n",
       "         8.8817842e-16,  1.0000000e-02,  2.0000000e-02,  3.0000000e-02,\n",
       "         4.0000000e-02,  5.0000000e-02,  6.0000000e-02,  7.0000000e-02,\n",
       "         8.0000000e-02,  9.0000000e-02,  1.0000000e-01,  1.1000000e-01,\n",
       "         1.2000000e-01,  1.3000000e-01,  1.4000000e-01,  1.5000000e-01,\n",
       "         1.6000000e-01,  1.7000000e-01,  1.8000000e-01,  1.9000000e-01,\n",
       "         2.0000000e-01,  2.1000000e-01,  2.2000000e-01,  2.3000000e-01,\n",
       "         2.4000000e-01,  2.5000000e-01,  2.6000000e-01,  2.7000000e-01,\n",
       "         2.8000000e-01,  2.9000000e-01,  3.0000000e-01,  3.1000000e-01,\n",
       "         3.2000000e-01,  3.3000000e-01,  3.4000000e-01,  3.5000000e-01,\n",
       "         3.6000000e-01,  3.7000000e-01,  3.8000000e-01,  3.9000000e-01,\n",
       "         4.0000000e-01,  4.1000000e-01,  4.2000000e-01,  4.3000000e-01,\n",
       "         4.4000000e-01,  4.5000000e-01,  4.6000000e-01,  4.7000000e-01,\n",
       "         4.8000000e-01,  4.9000000e-01,  5.0000000e-01,  5.1000000e-01,\n",
       "         5.2000000e-01,  5.3000000e-01,  5.4000000e-01,  5.5000000e-01,\n",
       "         5.6000000e-01,  5.7000000e-01,  5.8000000e-01,  5.9000000e-01,\n",
       "         6.0000000e-01,  6.1000000e-01,  6.2000000e-01,  6.3000000e-01,\n",
       "         6.4000000e-01,  6.5000000e-01,  6.6000000e-01,  6.7000000e-01,\n",
       "         6.8000000e-01,  6.9000000e-01,  7.0000000e-01,  7.1000000e-01,\n",
       "         7.2000000e-01,  7.3000000e-01,  7.4000000e-01,  7.5000000e-01,\n",
       "         7.6000000e-01,  7.7000000e-01,  7.8000000e-01,  7.9000000e-01,\n",
       "         8.0000000e-01,  8.1000000e-01,  8.2000000e-01,  8.3000000e-01,\n",
       "         8.4000000e-01,  8.5000000e-01,  8.6000000e-01,  8.7000000e-01,\n",
       "         8.8000000e-01,  8.9000000e-01,  9.0000000e-01,  9.1000000e-01,\n",
       "         9.2000000e-01,  9.3000000e-01,  9.4000000e-01,  9.5000000e-01,\n",
       "         9.6000000e-01,  9.7000000e-01,  9.8000000e-01,  9.9000000e-01]),\n",
       " [<matplotlib.patches.Polygon at 0x2173b2d54c8>])"
      ]
     },
     "execution_count": 20,
     "metadata": {},
     "output_type": "execute_result"
    },
    {
     "data": {
      "image/png": "[encoded data removed]",
      "text/plain": [
       "<Figure size 432x288 with 1 Axes>"
      ]
     },
     "metadata": {
      "needs_background": "light"
     },
     "output_type": "display_data"
    }
   ],
   "source": [
    "fig, ax = plt.subplots(nrows=1, ncols=1, sharex=True)\n",
    "ax.hist(unshuffled_corr, histtype=\"step\", bins=np.arange(-1, 1, 0.01))#, log=True)\n",
    "ax.hist(shuffled_corr, histtype=\"step\", bins=np.arange(-1, 1, 0.01))#, log=True)"
   ]
  }
 ],
 "metadata": {
  "interpreter": {
   "hash": "56109a10b347b3c3802b160183a0e687bd880b36856906ef8a4f4e0cee2f1066"
  },
  "kernelspec": {
   "display_name": "Python 3.7.10 ('correlations_and_bursts_env')",
   "language": "python",
   "name": "python3"
  },
  "language_info": {
   "codemirror_mode": {
    "name": "ipython",
    "version": 3
   },
   "file_extension": ".py",
   "mimetype": "text/x-python",
   "name": "python",
   "nbconvert_exporter": "python",
   "pygments_lexer": "ipython3",
   "version": "3.7.10"
  },
  "orig_nbformat": 4
 },
 "nbformat": 4,
 "nbformat_minor": 2
}
