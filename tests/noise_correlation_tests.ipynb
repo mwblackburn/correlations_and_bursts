{
 "cells": [
  {
   "cell_type": "code",
   "execution_count": 1,
   "metadata": {},
   "outputs": [
    {
     "name": "stderr",
     "output_type": "stream",
     "text": [
      "c:\\Users\\Demogorgon\\anaconda3\\envs\\Python37\\lib\\site-packages\\allensdk\\brain_observatory\\comparison_utils.py:9: FutureWarning: pandas.util.testing is deprecated. Use the functions in the public API at pandas.testing instead.\n",
      "  from pandas.util.testing import assert_frame_equal\n"
     ]
    }
   ],
   "source": [
    "import numpy as np\n",
    "import pandas as pd\n",
    "import matplotlib.pyplot as plt\n",
    "import matplotlib.patches as mpatches\n",
    "import matplotlib\n",
    "import seaborn\n",
    "from scipy.stats import sem\n",
    "from scipy.stats import pearsonr as pearson_correlation\n",
    "import pickle as pkl\n",
    "import src.SessionNavigator as SessionNavigator\n",
    "import src.SessionProcessor as SessionProcessor\n",
    "from sklearn.svm import LinearSVC\n",
    "from allensdk.brain_observatory.ecephys.ecephys_project_cache import EcephysProjectCache"
   ]
  },
  {
   "cell_type": "code",
   "execution_count": 2,
   "metadata": {},
   "outputs": [],
   "source": [
    "data_root = \"C:/Users/Demogorgon/Documents/College/Marcus/Boston University PhD/Ocker Lab\"\n",
    "manifest_path = f\"{data_root}/AllenSDK_Data/manifest.json\"\n",
    "save_path = f\"{data_root}/correlations_and_bursts/data\"\n",
    "\n",
    "navigator = SessionNavigator.SessionNavigator(manifest_path)\n",
    "acronyms = ['VISp', 'VISl', 'VISal', 'VISrl', 'VISam', 'VISpm', 'LGd']\n",
    "stim = 'drifting_gratings_contrast'\n",
    "session_ids = navigator.find_sessions(acronyms, genotype=\"wt/wt\", session_type=\"functional_connectivity\")\n",
    "#sessions = [navigator.load_session(session_id) for session_id in session_ids]\n",
    "session = navigator.load_session(session_ids[0])\n",
    "with open(f\"{save_path}/{stim}__whole_burst_trains__session_{session_ids[0]}.pkl\", 'rb') as f:\n",
    "    bursts = pkl.load(f)\n",
    "with open(f\"{save_path}/{stim}__whole_single_trains__session_{session_ids[0]}.pkl\", 'rb') as f:\n",
    "    singles = pkl.load(f)"
   ]
  },
  {
   "cell_type": "code",
   "execution_count": 3,
   "metadata": {},
   "outputs": [],
   "source": [
    "processor = SessionProcessor.SessionProcessor(session)\n",
    "unshuffled = processor.construct_decoder(\"drifting_gratings_contrast\", \"orientation\", burst_dict=bursts, single_dict=singles, shuffle_trials=False)\n",
    "shuffled = processor.construct_decoder(\"drifting_gratings_contrast\", \"orientation\", burst_dict=bursts, single_dict=singles, shuffle_trials=True)\n",
    "\n",
    "processor.construct_psth(unshuffled)\n",
    "processor.construct_psth(shuffled)\n",
    "\n",
    "processor.calculate_decoder_weights(unshuffled)\n",
    "processor.calculate_decoder_weights(shuffled)\n",
    "\n",
    "processor.calculate_correlations(unshuffled)\n",
    "processor.calculate_correlations(shuffled)\n",
    "\n",
    "results = processor.results()\n",
    "unshuffled_results = results[unshuffled]\n",
    "shuffled_results = results[shuffled]\n",
    "\n",
    "unshuffled_psths = unshuffled_results[\"psths\"][\"bursts\"]\n",
    "shuffled_psths = shuffled_results[\"psths\"][\"bursts\"]"
   ]
  },
  {
   "cell_type": "code",
   "execution_count": 4,
   "metadata": {},
   "outputs": [
    {
     "name": "stdout",
     "output_type": "stream",
     "text": [
      "<xarray.DataArray 'burst_counts' (stimulus_presentation_id: 540, time_relative_to_stimulus_onset: 11, unit_id: 784)>\n",
      "array([[[ True,  True,  True, ...,  True,  True,  True],\n",
      "        [False,  True,  True, ...,  True, False,  True],\n",
      "        [ True,  True,  True, ...,  True,  True,  True],\n",
      "        ...,\n",
      "        [ True,  True,  True, ...,  True,  True,  True],\n",
      "        [ True,  True,  True, ...,  True,  True,  True],\n",
      "        [False,  True,  True, ..., False, False,  True]],\n",
      "\n",
      "       [[ True,  True,  True, ...,  True, False,  True],\n",
      "        [ True,  True,  True, ...,  True,  True,  True],\n",
      "        [ True,  True,  True, ...,  True,  True,  True],\n",
      "        ...,\n",
      "        [ True,  True,  True, ...,  True, False,  True],\n",
      "        [ True,  True,  True, ...,  True,  True,  True],\n",
      "        [ True,  True,  True, ..., False,  True,  True]],\n",
      "\n",
      "       [[ True,  True,  True, ...,  True, False,  True],\n",
      "        [ True,  True,  True, ...,  True,  True,  True],\n",
      "        [False,  True,  True, ..., False, False,  True],\n",
      "        ...,\n",
      "        [ True,  True, False, ...,  True,  True,  True],\n",
      "        [ True,  True,  True, ...,  True,  True,  True],\n",
      "        [ True,  True,  True, ...,  True, False,  True]],\n",
      "\n",
      "       ...,\n",
      "\n",
      "       [[ True,  True,  True, ...,  True,  True,  True],\n",
      "        [ True,  True, False, ...,  True,  True,  True],\n",
      "        [ True,  True, False, ..., False,  True,  True],\n",
      "        ...,\n",
      "        [ True,  True,  True, ...,  True,  True,  True],\n",
      "        [ True,  True,  True, ...,  True,  True,  True],\n",
      "        [ True,  True,  True, ...,  True, False, False]],\n",
      "\n",
      "       [[ True,  True,  True, ...,  True,  True,  True],\n",
      "        [ True,  True,  True, ...,  True,  True,  True],\n",
      "        [ True,  True,  True, ...,  True,  True,  True],\n",
      "        ...,\n",
      "        [ True,  True,  True, ...,  True,  True,  True],\n",
      "        [ True,  True,  True, ...,  True,  True,  True],\n",
      "        [ True,  True,  True, ..., False, False, False]],\n",
      "\n",
      "       [[ True,  True,  True, ...,  True,  True,  True],\n",
      "        [ True,  True,  True, ..., False,  True,  True],\n",
      "        [ True,  True,  True, ...,  True,  True,  True],\n",
      "        ...,\n",
      "        [ True,  True,  True, ...,  True,  True,  True],\n",
      "        [ True,  True,  True, ...,  True,  True,  True],\n",
      "        [ True,  True,  True, ...,  True,  True,  True]]])\n",
      "Coordinates:\n",
      "  * stimulus_presentation_id         (stimulus_presentation_id) int64 3798 ... 4337\n",
      "  * time_relative_to_stimulus_onset  (time_relative_to_stimulus_onset) float64 0.025 ... 0.525\n",
      "  * unit_id                          (unit_id) int64 951015763 ... 951037645\n"
     ]
    },
    {
     "name": "stderr",
     "output_type": "stream",
     "text": [
      "c:\\Users\\Demogorgon\\anaconda3\\envs\\Python37\\lib\\site-packages\\xarray\\core\\formatting.py:142: DeprecationWarning: `np.float` is a deprecated alias for the builtin `float`. To silence this warning, use `float` by itself. Doing this will not modify any behavior and is safe. If you specifically wanted the numpy scalar type, use `np.float64` here.\n",
      "Deprecated in NumPy 1.20; for more details and guidance: https://numpy.org/devdocs/release/1.20.0-notes.html#deprecations\n",
      "  elif isinstance(x, (float, np.float)):\n"
     ]
    }
   ],
   "source": [
    "a = unshuffled_psths == shuffled_psths\n",
    "print(a.isin([True]))"
   ]
  },
  {
   "cell_type": "code",
   "execution_count": 14,
   "metadata": {},
   "outputs": [
    {
     "name": "stderr",
     "output_type": "stream",
     "text": [
      "c:\\Users\\Demogorgon\\anaconda3\\envs\\Python37\\lib\\site-packages\\ipykernel_launcher.py:17: RuntimeWarning: invalid value encountered in true_divide\n"
     ]
    }
   ],
   "source": [
    "BIN = 5\n",
    "\n",
    "def correlate_noise(mat):\n",
    "    # mat: num_presentations x num_units\n",
    "    num_presentations, num_units = mat.shape\n",
    "    # Average across the presentations\n",
    "    expectation = np.array(mat.mean(axis=0))\n",
    "    variance = np.array(mat.var(axis=0))\n",
    "    centered_mat = mat-expectation\n",
    "    covariance = np.dot(centered_mat.T, centered_mat)/num_presentations\n",
    "    return np.divide(\n",
    "        covariance,\n",
    "        np.sqrt(\n",
    "            np.outer(variance, variance)\n",
    "            ), \n",
    "        out=np.zeros(covariance.shape),\n",
    "        where=True)\n",
    "\n",
    "stim_table = unshuffled_results[\"decoder\"].stim_table\n",
    "bin_edges = unshuffled_results[\"decoder\"].bin_edges\n",
    "stim_conditions = unshuffled_results[\"decoder\"].stimulus_conditions\n",
    "sample_condition = stim_conditions[1]\n",
    "#sample_unit_id = [951031834, 951028439]\n",
    "sample_unit_id = processor.all_units\n",
    "num_units = len(sample_unit_id)\n",
    "presentation_ids = stim_table.loc[stim_table[\"orientation\"] == sample_condition].index.to_numpy()\n",
    "\n",
    "unshuffled_sample = processor.presentationwise_burst_counts(unshuffled, bin_edges, presentation_ids, sample_unit_id)\n",
    "shuffled_sample = processor.presentationwise_burst_counts(shuffled, bin_edges, presentation_ids, sample_unit_id)\n",
    "#print((unshuffled_sample == shuffled_sample).isin([True]))\n",
    "#unshuffled_sample = unshuffled_sample[:,:,0]\n",
    "#shuffled_sample = shuffled_sample[:,:,0]\n",
    "\n",
    "upper_triangle_indices = np.triu_indices(n=num_units, k=1)\n",
    "unshuffled_corr = correlate_noise(unshuffled_sample[:,BIN,:])[upper_triangle_indices].flatten()\n",
    "shuffled_corr = correlate_noise(shuffled_sample[:,BIN,:])[upper_triangle_indices].flatten()"
   ]
  },
  {
   "cell_type": "code",
   "execution_count": 15,
   "metadata": {},
   "outputs": [
    {
     "data": {
      "image/png": "[encoded data removed]",
      "text/plain": [
       "<Figure size 432x288 with 1 Axes>"
      ]
     },
     "metadata": {
      "needs_background": "light"
     },
     "output_type": "display_data"
    }
   ],
   "source": [
    "left_bound = -1\n",
    "right_bound = 1\n",
    "x = np.linspace(left_bound, right_bound, num=len(unshuffled_corr))\n",
    "fig, ax = plt.subplots()\n",
    "ax.scatter(unshuffled_corr, shuffled_corr)\n",
    "ax.plot(x, x)\n",
    "plt.show()"
   ]
  }
 ],
 "metadata": {
  "interpreter": {
   "hash": "c91da87843afe78bc60e099aca5b5329ad104f63568413850cd77f5571624ba9"
  },
  "kernelspec": {
   "display_name": "Python 3.7.10 ('Python37')",
   "language": "python",
   "name": "python3"
  },
  "language_info": {
   "codemirror_mode": {
    "name": "ipython",
    "version": 3
   },
   "file_extension": ".py",
   "mimetype": "text/x-python",
   "name": "python",
   "nbconvert_exporter": "python",
   "pygments_lexer": "ipython3",
   "version": "3.7.10"
  },
  "orig_nbformat": 4
 },
 "nbformat": 4,
 "nbformat_minor": 2
}
