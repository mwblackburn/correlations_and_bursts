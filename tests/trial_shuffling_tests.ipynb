{
 "cells": [
  {
   "cell_type": "code",
   "execution_count": 1,
   "metadata": {},
   "outputs": [
    {
     "name": "stderr",
     "output_type": "stream",
     "text": [
      "C:\\Users\\Demogorgon\\anaconda3\\envs\\Python37\\lib\\site-packages\\allensdk\\brain_observatory\\comparison_utils.py:9: FutureWarning: pandas.util.testing is deprecated. Use the functions in the public API at pandas.testing instead.\n",
      "  from pandas.util.testing import assert_frame_equal\n"
     ]
    }
   ],
   "source": [
    "import src.SessionProcessor as SessionProcessor\n",
    "from allensdk.brain_observatory.ecephys.ecephys_project_cache import EcephysProjectCache\n",
    "\n",
    "def compare_elements(arr1, arr2):\n",
    "        arr1 = arr1.flat\n",
    "        arr2 = arr2.flat\n",
    "        num_elements = len(arr1)\n",
    "        \n",
    "        # If there are the same number of elements in both arrays, check that the arrays have identical elements\n",
    "        if num_elements == len(arr2):\n",
    "            for idx in range(num_elements):\n",
    "                if arr1[idx] != arr2[idx]:\n",
    "                    return False\n",
    "        else:\n",
    "            return False\n",
    "        \n",
    "        return True\n",
    "\n",
    "def assertFalse(arg):\n",
    "    if arg:\n",
    "        raise AssertionError()\n",
    "\n",
    "def assertTrue(arg):\n",
    "    if not(arg):\n",
    "        raise AssertionError()\n"
   ]
  },
  {
   "cell_type": "code",
   "execution_count": 2,
   "metadata": {},
   "outputs": [],
   "source": [
    "# Everything here is required to correctly load a session object. Session objects take a while\n",
    "# to load (a touch over a minute on my machine), so only one session is loaded to make the tests\n",
    "# go faster.\n",
    "# It'll take a couple minutes to run these tests, even though there aren't many, because of the\n",
    "# session object.\n",
    "data_root = \"C:/Users/Demogorgon/Documents/College/Marcus/Boston University PhD/Ocker Lab\"\n",
    "manifest_path = f\"{data_root}/AllenSDK_Data/manifest.json\"\n",
    "stim = 'drifting_gratings_contrast'\n",
    "session_id = 778240327\n",
    "cache = EcephysProjectCache(manifest=manifest_path)\n",
    "session = cache.get_session_data(session_id=session_id)\n",
    "\n",
    "# We're comparing shuffled and unshuffled PSTH data, so we need a shuffled and unshuffled version\n",
    "# of the session\n",
    "processor = SessionProcessor.SessionProcessor(session)\n",
    "unshuffled = processor.construct_decoder('drifting_gratings_contrast', 'orientation')\n",
    "shuffled = processor.construct_decoder('drifting_gratings_contrast', 'orientation', shuffle_trials=True)"
   ]
  },
  {
   "cell_type": "code",
   "execution_count": 3,
   "metadata": {},
   "outputs": [
    {
     "name": "stdout",
     "output_type": "stream",
     "text": [
      "unshuffled_x.shape = (540, 11, 784)\n",
      "unshuffled_y.shape = (540,)\n",
      "shuffled_x.shape = (540, 11, 784)\n",
      "axis 0 shape: (11, 784)\n",
      "axis 1 shape: (540, 784)\n",
      "axis 2 shape: (540, 11)\n",
      "The data is being shuffled\n",
      "The trial averaged PSTHs of the shuffled and unshuffled data are identical\n"
     ]
    }
   ],
   "source": [
    "# The PSTHs I'm refering to here are each cell's spike count after a stim presentation.\n",
    "# For both shuffled and unshuffled trials, those are stored in:\n",
    "# processor._decoders[name].x\n",
    "unshuffled_x = processor._decoders[unshuffled].x\n",
    "unshuffled_y = processor._decoders[unshuffled].y\n",
    "shuffled_x = processor._decoders[shuffled].x\n",
    "print(f\"unshuffled_x.shape = {unshuffled_x.shape}\")\n",
    "print(f\"unshuffled_y.shape = {unshuffled_y.shape}\")\n",
    "print(f\"shuffled_x.shape = {shuffled_x.shape}\")\n",
    "print(f\"axis 0 shape: {unshuffled_x.mean(axis=0).shape}\")\n",
    "print(f\"axis 1 shape: {unshuffled_x.mean(axis=1).shape}\")\n",
    "print(f\"axis 2 shape: {unshuffled_x.mean(axis=2).shape}\")\n",
    "\n",
    "try:\n",
    "    assertFalse(compare_elements(unshuffled_x, shuffled_x))\n",
    "    print(\"The data is being shuffled\")\n",
    "except AssertionError as e:\n",
    "    print(\"The data is not being shuffled\")\n",
    "\n",
    "try:\n",
    "    # PSTHs should be averaged over presentation, which should be axis=0\n",
    "    # num_presentations, num_bins, num_units = x.shape\n",
    "    assertTrue(compare_elements(unshuffled_x.mean(axis=0), shuffled_x.mean(axis=0)))\n",
    "    print(\"The trial averaged PSTHs of the shuffled and unshuffled data are identical\")\n",
    "except AssertionError as e:\n",
    "    print(\"The trial averaged PSTHs of the shuffled and unshuffled data are NOT identical\")"
   ]
  }
 ],
 "metadata": {
  "interpreter": {
   "hash": "4ac7c2a41256a01e83fb132163f5cb7611a66c99fb26abcffaabf8c28f7c303b"
  },
  "kernelspec": {
   "display_name": "Python 3.7.10 ('Python37')",
   "language": "python",
   "name": "python3"
  },
  "language_info": {
   "codemirror_mode": {
    "name": "ipython",
    "version": 3
   },
   "file_extension": ".py",
   "mimetype": "text/x-python",
   "name": "python",
   "nbconvert_exporter": "python",
   "pygments_lexer": "ipython3",
   "version": "3.7.10"
  },
  "orig_nbformat": 4
 },
 "nbformat": 4,
 "nbformat_minor": 2
}
