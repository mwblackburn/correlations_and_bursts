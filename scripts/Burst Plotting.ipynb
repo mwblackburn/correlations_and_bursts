{
 "cells": [
  {
   "cell_type": "code",
   "execution_count": 1,
   "metadata": {},
   "outputs": [
    {
     "name": "stderr",
     "output_type": "stream",
     "text": [
      "C:\\Users\\Demogorgon\\anaconda3\\envs\\Python37\\lib\\site-packages\\allensdk\\brain_observatory\\comparison_utils.py:9: FutureWarning: pandas.util.testing is deprecated. Use the functions in the public API at pandas.testing instead.\n",
      "  from pandas.util.testing import assert_frame_equal\n"
     ]
    }
   ],
   "source": [
    "import numpy as np\n",
    "import pandas as pd\n",
    "import matplotlib.pyplot as plt\n",
    "import pickle as pkl\n",
    "import src.SessionNavigator as SessionNavigator\n",
    "import src.SessionProcessor as SessionProcessor\n",
    "from sklearn.svm import LinearSVC\n",
    "from allensdk.brain_observatory.ecephys.ecephys_project_cache import EcephysProjectCache"
   ]
  },
  {
   "cell_type": "code",
   "execution_count": 2,
   "metadata": {},
   "outputs": [],
   "source": [
    "# Do you want the plots saved?\n",
    "SAVE = False\n",
    "\n",
    "# Insert the file path to your data (e.g. \"C:\\Users\\MickeyMouse\\MouseBrainData\\manifest.json\")\n",
    "data_root = \"C:/Users/Demogorgon/Documents/College/Marcus/Boston University PhD/Ocker Lab\"\n",
    "manifest_path = f\"{data_root}/AllenSDK_Data/manifest.json\"\n",
    "save_path = f\"{data_root}/correlations_and_bursts/data\"\n",
    "bursts_path = f\"{save_path}/\"\n",
    "\n",
    "# These are the same stim and session_id in the Burst Detection script\n",
    "stim = 'drifting_gratings_contrast'\n",
    "session_id = 778240327"
   ]
  },
  {
   "cell_type": "code",
   "execution_count": 3,
   "metadata": {},
   "outputs": [],
   "source": [
    "# Create a SessionNavigator, which will open and navigate the data in manifest_path\n",
    "navigator = SessionNavigator.SessionNavigator(manifest_path)\n",
    "\n",
    "# Load the session and open a SessionProcessor\n",
    "session = navigator.load_session(session_id)\n",
    "processor = SessionProcessor.SessionProcessor(session)"
   ]
  },
  {
   "cell_type": "code",
   "execution_count": 4,
   "metadata": {},
   "outputs": [],
   "source": [
    "session_name = processor.construct_decoder('drifting_gratings_contrast', 'orientation')\n",
    "processor.construct_psth(session_name)\n",
    "processor.calculate_decoder_weights(session_name)\n",
    "processor.calculate_correlations(session_name)"
   ]
  },
  {
   "cell_type": "code",
   "execution_count": 5,
   "metadata": {},
   "outputs": [],
   "source": [
    "with open(f\"{save_path}/{stim}__whole_burst_trains__session_{session_id}.pkl\", 'rb') as f:\n",
    "    bursts = pkl.load(f)\n",
    "with open(f\"{save_path}/{stim}__whole_single_trains__session_{session_id}.pkl\", 'rb') as f:\n",
    "    singles = pkl.load(f)\n",
    "processor.add_bursts(bursts, singles, session_name, shuffled=False)\n",
    "presentationwise_bursts = processor.presentationwise_burst_count(session_name)\n",
    "presentationwise_singles= processor.presentationwise_non_burst_count(session_name)"
   ]
  },
  {
   "cell_type": "code",
   "execution_count": 6,
   "metadata": {},
   "outputs": [],
   "source": [
    "results = processor.results()['drifting_gratings_contrast__width_50.0ms__unshuffled']\n",
    "decoder = results['decoder']\n",
    "bins = decoder.bin_edges\n",
    "unit_ids = processor.all_units\n",
    "stim_presentation_ids = decoder.stim_table.index.values\n",
    "#presentationwise_example = results['psths']\n",
    "burst_example = bursts[951012296]\n",
    "presentationwise_example = session.presentationwise_spike_times(stimulus_presentation_ids=stim_presentation_ids, unit_ids=unit_ids)"
   ]
  },
  {
   "cell_type": "code",
   "execution_count": 7,
   "metadata": {},
   "outputs": [],
   "source": [
    "presentationwise_burst_example = processor.presentationwise_burst_times(session_name)\n",
    "presentationwise_single_example= processor.presentationwise_non_burst_times(session_name)\n",
    "# TODO: Decoding from isolated spikes and from bursts (as expected)\n",
    "# TODO: 2 channel code, a unit's isolated spikes and a unit's bursts (so num_features will double)\n",
    "# NEED: Controls to account for the doubling of the features\n",
    "# Random sample from 50% of the population to account for the doubling of features (repeat for many draws before comparing)\n",
    "\n",
    "# Finally, compare regular vs trial shuffled\n",
    "\n",
    "# NEED: Loads of figures, show raw and separated spike trains in the same plot\n",
    "# Next Monday: Have a practice run"
   ]
  }
 ],
 "metadata": {
  "interpreter": {
   "hash": "4ac7c2a41256a01e83fb132163f5cb7611a66c99fb26abcffaabf8c28f7c303b"
  },
  "kernelspec": {
   "display_name": "Python 3.7.10 ('Python37')",
   "language": "python",
   "name": "python3"
  },
  "language_info": {
   "codemirror_mode": {
    "name": "ipython",
    "version": 3
   },
   "file_extension": ".py",
   "mimetype": "text/x-python",
   "name": "python",
   "nbconvert_exporter": "python",
   "pygments_lexer": "ipython3",
   "version": "3.7.10"
  },
  "orig_nbformat": 4
 },
 "nbformat": 4,
 "nbformat_minor": 2
}
